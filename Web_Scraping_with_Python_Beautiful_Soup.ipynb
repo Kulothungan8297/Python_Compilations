{
  "nbformat": 4,
  "nbformat_minor": 0,
  "metadata": {
    "colab": {
      "name": "Web Scraping with Python - Beautiful Soup.ipynb",
      "private_outputs": true,
      "provenance": [],
      "authorship_tag": "ABX9TyPIE7MCeYanBnrim74YWtWR",
      "include_colab_link": true
    },
    "kernelspec": {
      "name": "python3",
      "display_name": "Python 3"
    },
    "language_info": {
      "name": "python"
    }
  },
  "cells": [
    {
      "cell_type": "markdown",
      "metadata": {
        "id": "view-in-github",
        "colab_type": "text"
      },
      "source": [
        "<a href=\"https://colab.research.google.com/github/Kulothungan8297/Python_Compilations/blob/main/Web_Scraping_with_Python_Beautiful_Soup.ipynb\" target=\"_parent\"><img src=\"https://colab.research.google.com/assets/colab-badge.svg\" alt=\"Open In Colab\"/></a>"
      ]
    },
    {
      "cell_type": "code",
      "execution_count": null,
      "metadata": {
        "id": "wJs_g8EImdAx"
      },
      "outputs": [],
      "source": [
        "from bs4 import BeautifulSoup\n",
        "import requests\n",
        "import time"
      ]
    },
    {
      "cell_type": "code",
      "source": [
        "def find_jobs():\n",
        "  html_text = requests.get('https://www.timesjobs.com/candidate/job-search.html?searchType=personalizedSearch&from=submit&txtKeywords=python&txtLocation=').text\n",
        "  soup = BeautifulSoup(html_text , 'lxml')\n",
        "  jobs = soup.find_all('li' , class_ = 'clearfix job-bx wht-shd-bx')\n",
        "  for index , job in enumerate(jobs):\n",
        "    published_date = job.find('span' , class_ = 'sim-posted').text.strip()\n",
        "    company_name = job.find('h3' , class_ = 'joblist-comp-name').text.strip()\n",
        "    skills = job.find('span' , class_ = 'srp-skills').text.strip().replace(' ' , '')\n",
        "    with open(f'posts/{index}.txt' , 'w') as f:\n",
        "      f.write(f\"Company Name : {company_name} \\n\")\n",
        "      f.write(f\"Required Skills : {skills} \\n\")\n",
        "    print(f'File Saved:{index}')"
      ],
      "metadata": {
        "id": "3VH2dMV3DDOr"
      },
      "execution_count": null,
      "outputs": []
    },
    {
      "cell_type": "code",
      "source": [
        "if __name__ == '__main__':\n",
        "  while True:\n",
        "    find_jobs()\n",
        "    #print(\"Waiting 600 seconds...\")\n",
        "    #time.sleep(600)\n"
      ],
      "metadata": {
        "id": "pbcGbXc_vZrN"
      },
      "execution_count": null,
      "outputs": []
    },
    {
      "cell_type": "code",
      "source": [
        "!pwd"
      ],
      "metadata": {
        "id": "3ttDC9Fhyykv"
      },
      "execution_count": null,
      "outputs": []
    }
  ]
}