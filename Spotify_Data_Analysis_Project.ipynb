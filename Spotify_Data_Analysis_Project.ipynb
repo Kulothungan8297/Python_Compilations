{
  "nbformat": 4,
  "nbformat_minor": 0,
  "metadata": {
    "colab": {
      "name": "Spotify Data Analysis Project.ipynb",
      "private_outputs": true,
      "provenance": [],
      "collapsed_sections": [],
      "authorship_tag": "ABX9TyNKRIDorkdtW/ZM3xjfxhD+",
      "include_colab_link": true
    },
    "kernelspec": {
      "name": "python3",
      "display_name": "Python 3"
    },
    "language_info": {
      "name": "python"
    }
  },
  "cells": [
    {
      "cell_type": "markdown",
      "metadata": {
        "id": "view-in-github",
        "colab_type": "text"
      },
      "source": [
        "<a href=\"https://colab.research.google.com/github/Kulothungan8297/Python_Compilations/blob/main/Spotify_Data_Analysis_Project.ipynb\" target=\"_parent\"><img src=\"https://colab.research.google.com/assets/colab-badge.svg\" alt=\"Open In Colab\"/></a>"
      ]
    },
    {
      "cell_type": "code",
      "source": [
        "! pip install kaggle"
      ],
      "metadata": {
        "id": "ik3XZ58Xo6m3"
      },
      "execution_count": null,
      "outputs": []
    },
    {
      "cell_type": "code",
      "source": [
        "! mkdir ~/.kaggle"
      ],
      "metadata": {
        "id": "fC6aUV0Eo8L9"
      },
      "execution_count": null,
      "outputs": []
    },
    {
      "cell_type": "code",
      "source": [
        "! cp kaggle.json ~/.kaggle/"
      ],
      "metadata": {
        "id": "gWTn0Bfxo_QG"
      },
      "execution_count": null,
      "outputs": []
    },
    {
      "cell_type": "code",
      "source": [
        "! chmod 600 ~/.kaggle/kaggle.json"
      ],
      "metadata": {
        "id": "c1wlnM65pCZ4"
      },
      "execution_count": null,
      "outputs": []
    },
    {
      "cell_type": "code",
      "source": [
        "! kaggle datasets download zaheenhamidani/ultimate-spotify-tracks-db"
      ],
      "metadata": {
        "id": "H4X3cW6-pXJ_"
      },
      "execution_count": null,
      "outputs": []
    },
    {
      "cell_type": "code",
      "source": [
        "! kaggle datasets download -d lehaknarnauli/spotify-datasets"
      ],
      "metadata": {
        "id": "cX9vRLm3qv29"
      },
      "execution_count": null,
      "outputs": []
    },
    {
      "cell_type": "code",
      "source": [
        "import numpy as np\n",
        "import pandas as pd\n",
        "import matplotlib.pyplot as plt\n",
        "import seaborn as sns"
      ],
      "metadata": {
        "id": "JQsCdIgan-zY"
      },
      "execution_count": null,
      "outputs": []
    },
    {
      "cell_type": "code",
      "source": [
        "%pwd"
      ],
      "metadata": {
        "id": "V3E2gRhuq9h2"
      },
      "execution_count": null,
      "outputs": []
    },
    {
      "cell_type": "code",
      "source": [
        "! unzip ultimate-spotify-tracks-db"
      ],
      "metadata": {
        "id": "bnP8GOByrOFl"
      },
      "execution_count": null,
      "outputs": []
    },
    {
      "cell_type": "code",
      "source": [
        "! unzip spotify-datasets"
      ],
      "metadata": {
        "id": "A6riJUEdrS1e"
      },
      "execution_count": null,
      "outputs": []
    },
    {
      "cell_type": "code",
      "source": [
        "df_tracks = pd.read_csv('/content/tracks.csv')"
      ],
      "metadata": {
        "id": "WUOk_GXon-5V"
      },
      "execution_count": null,
      "outputs": []
    },
    {
      "cell_type": "code",
      "source": [
        "df_tracks.head()"
      ],
      "metadata": {
        "id": "oWLc9z22rj29"
      },
      "execution_count": null,
      "outputs": []
    },
    {
      "cell_type": "code",
      "source": [
        "pd.isnull(df_tracks).sum()"
      ],
      "metadata": {
        "id": "i9uD-xfqv7vm"
      },
      "execution_count": null,
      "outputs": []
    },
    {
      "cell_type": "code",
      "source": [
        "sorted_df = df_tracks.sort_values('popularity' , ascending = True).head(10)"
      ],
      "metadata": {
        "id": "xKJrXA0Jwpuf"
      },
      "execution_count": null,
      "outputs": []
    },
    {
      "cell_type": "code",
      "source": [
        "sorted_df"
      ],
      "metadata": {
        "id": "Cam1DFLmw5yn"
      },
      "execution_count": null,
      "outputs": []
    },
    {
      "cell_type": "code",
      "source": [
        "most_popular = df_tracks.query('popularity>90' , inplace = False).sort_values('popularity' , ascending = False)\n",
        "most_popular[:10]"
      ],
      "metadata": {
        "id": "PRv52honxhJW"
      },
      "execution_count": null,
      "outputs": []
    },
    {
      "cell_type": "code",
      "source": [
        "df_tracks.set_index(\"release_date\", inplace = True)"
      ],
      "metadata": {
        "id": "ccc0CjmXyUbN"
      },
      "execution_count": null,
      "outputs": []
    },
    {
      "cell_type": "code",
      "source": [
        "df_tracks.index = pd.to_datetime(df_tracks.index)"
      ],
      "metadata": {
        "id": "ocIodCtHy7U3"
      },
      "execution_count": null,
      "outputs": []
    },
    {
      "cell_type": "code",
      "source": [
        "df_tracks.head()"
      ],
      "metadata": {
        "id": "ZefmwnQKzOvA"
      },
      "execution_count": null,
      "outputs": []
    },
    {
      "cell_type": "code",
      "source": [
        "df_tracks[\"duration\"] = df_tracks[\"duration_ms\"].apply(lambda x: round(x/1000))"
      ],
      "metadata": {
        "id": "SiO1Fn_FzYN9"
      },
      "execution_count": null,
      "outputs": []
    },
    {
      "cell_type": "code",
      "source": [
        "df_tracks.drop(\"duration_ms\" , inplace = True , axis=1)"
      ],
      "metadata": {
        "id": "zyckdaF_0C1H"
      },
      "execution_count": null,
      "outputs": []
    },
    {
      "cell_type": "code",
      "source": [
        "corr_df = df_tracks.drop([\"key\" , \"mode\" , \"explicit\"] , axis = 1).corr(method = 'pearson')\n",
        "plt.figure(figsize = (14,6))\n",
        "heatmap = sns.heatmap(corr_df , annot = True , fmt = \".1g\" , vmin=-1 , vmax=1 , center=0, cmap=\"inferno\" , linewidths=1 , linecolor = \"Black\")\n",
        "heatmap.set_title(\"Correlation Heatmap Between Variable\")\n",
        "heatmap.set_xticklabels(heatmap.get_xticklabels(),rotation=90)"
      ],
      "metadata": {
        "id": "lw1T-ge10aSG"
      },
      "execution_count": null,
      "outputs": []
    },
    {
      "cell_type": "code",
      "source": [
        "sample_df = df_tracks.sample(int(0.004*len(df_tracks)))"
      ],
      "metadata": {
        "id": "NckpAAyf31kM"
      },
      "execution_count": null,
      "outputs": []
    },
    {
      "cell_type": "code",
      "source": [
        "print(len(sample_df))"
      ],
      "metadata": {
        "id": "rMaGkyyW4P58"
      },
      "execution_count": null,
      "outputs": []
    },
    {
      "cell_type": "code",
      "source": [
        "plt.figure(figsize = (10,6))\n",
        "sns.regplot(data = sample_df , y = \"loudness\" , x = \"energy\" , color = \"c\").set(title = \"Loudness vs Energy Correlation\")"
      ],
      "metadata": {
        "id": "7uP2eCyQ4hac"
      },
      "execution_count": null,
      "outputs": []
    },
    {
      "cell_type": "code",
      "source": [
        "plt.figure(figsize = (10 ,6))\n",
        "sns.regplot(data = sample_df , y = \"popularity\" , x = \"acousticness\" , color = \"b\").set(title = \"Popularity vs Accousticness Correlation\")\n"
      ],
      "metadata": {
        "id": "RtguxdKE5bQV"
      },
      "execution_count": null,
      "outputs": []
    },
    {
      "cell_type": "code",
      "source": [
        "df_tracks['dates']= df_tracks.index.get_level_values('release_date')\n",
        "df_tracks.dates = pd.to_datetime(df_tracks.dates)\n",
        "years = df_tracks.dates.dt.year"
      ],
      "metadata": {
        "id": "vTBgjXoS7H5-"
      },
      "execution_count": null,
      "outputs": []
    },
    {
      "cell_type": "code",
      "source": [
        "sns.displot(years , discrete = True , aspect = 2 , height = 5 , kind = \"hist\").set(title = \"Number of songs per year\")"
      ],
      "metadata": {
        "id": "OjbqS3gO78I-"
      },
      "execution_count": null,
      "outputs": []
    },
    {
      "cell_type": "code",
      "source": [
        "total_dr = df_tracks.duration\n",
        "fig_dims = (18,7)\n",
        "fig, ax = plt.subplots(figsize = fig_dims)\n",
        "fig = sns.barplot(x = years , y = total_dr , ax = ax , errwidth = False).set(title = \"Year vs Duration\")\n",
        "plt.xticks(rotation=90)"
      ],
      "metadata": {
        "id": "CnqzC6108VLe"
      },
      "execution_count": null,
      "outputs": []
    },
    {
      "cell_type": "code",
      "source": [
        "total_dr = df_tracks.duration\n",
        "sns.set_style(style = \"whitegrid\")\n",
        "fig_dims = (10 , 5)\n",
        "fig, ax = plt.subplots(figsize = fig_dims)\n",
        "fig = sns.lineplot(x=years, y=total_dr , ax=ax).set(title = \"Year vs Duration\")\n",
        "plt.xticks(rotation=60)"
      ],
      "metadata": {
        "id": "bMbxZ9ds9t5O"
      },
      "execution_count": null,
      "outputs": []
    },
    {
      "cell_type": "code",
      "source": [
        "df_genre=pd.read_csv('/content/SpotifyFeatures.csv')"
      ],
      "metadata": {
        "id": "dGuIrIEA-9Tr"
      },
      "execution_count": null,
      "outputs": []
    },
    {
      "cell_type": "code",
      "source": [
        "plt.title(\"Duration of the Songs in Different Genres\")\n",
        "sns.color_palette(\"rocket\", as_cmap= True)\n",
        "sns.barplot(y='genre' , x='duration_ms' , data=df_genre)\n",
        "plt.xlabel(\"Duration in milli seconds\")\n",
        "plt.ylabel(\"Genres\")"
      ],
      "metadata": {
        "id": "QQIEcP01_Umz"
      },
      "execution_count": null,
      "outputs": []
    },
    {
      "cell_type": "code",
      "source": [
        "sns.set_style(style = \"darkgrid\")\n",
        "plt.figure(figsize = (10 , 5))\n",
        "famous = df_genre.sort_values(\"popularity\" , ascending = False).head(10)\n",
        "sns.barplot(y='genre' , x='popularity' , data = famous).set(title = \"Top 5 Genres by popularity\")"
      ],
      "metadata": {
        "id": "4YWxHLQoACyY"
      },
      "execution_count": null,
      "outputs": []
    }
  ]
}